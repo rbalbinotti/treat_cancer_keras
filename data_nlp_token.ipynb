{
 "cells": [
  {
   "cell_type": "markdown",
   "id": "d6d3df7d",
   "metadata": {},
   "source": [
    "<b> Notice: Run data_org.ipynb first </b>"
   ]
  },
  {
   "cell_type": "markdown",
   "id": "f3fc495e",
   "metadata": {},
   "source": [
    "# Import libraries"
   ]
  },
  {
   "cell_type": "code",
   "execution_count": 1,
   "id": "1ddbefca-1984-4403-bedf-b3f4edd5effa",
   "metadata": {},
   "outputs": [],
   "source": [
    "import pandas as pd # type: ignore\n",
    "import warnings\n",
    "import string\n",
    "import joblib\n",
    "\n",
    "# NLP\n",
    "import spacy\n",
    "from spacy.lang.en.stop_words import STOP_WORDS\n",
    "nlp = spacy.load(\"en_core_web_sm\")\n",
    "\n",
    "# Config notebook\n",
    "warnings.filterwarnings('ignore')\n",
    "pd.set_option('display.max.colwidth', 200)"
   ]
  },
  {
   "cell_type": "markdown",
   "id": "7466bd30",
   "metadata": {},
   "source": [
    "##### Create Functions"
   ]
  },
  {
   "cell_type": "code",
   "execution_count": 2,
   "id": "50c8e6e5",
   "metadata": {},
   "outputs": [],
   "source": [
    "def pre_process(text):\n",
    "    \"\"\"\n",
    "    Remove stop words, tokenize and lemmatize.\n",
    "    \"\"\"\n",
    "\n",
    "    # Process text\n",
    "    doc = nlp(text)\n",
    "    tokens = []\n",
    "    for token in doc:\n",
    "        if token.text.lower() not in STOP_WORDS and token.text not in string.punctuation:\n",
    "            tokens.append(token.lemma_)\n",
    "\n",
    "    return ' '.join(tokens)"
   ]
  },
  {
   "cell_type": "markdown",
   "id": "e4580a5d-edd7-4d01-93ed-4401f3cc0f6e",
   "metadata": {},
   "source": [
    "# ETL data for train"
   ]
  },
  {
   "cell_type": "code",
   "execution_count": 3,
   "id": "1c2df2e9",
   "metadata": {},
   "outputs": [],
   "source": [
    "data_train = pd.read_parquet('./data_files/data_for_train.parquet')"
   ]
  },
  {
   "cell_type": "code",
   "execution_count": null,
   "id": "b1dfbf55",
   "metadata": {},
   "outputs": [],
   "source": [
    "data_train.head(3)"
   ]
  },
  {
   "cell_type": "markdown",
   "id": "9af77fae",
   "metadata": {},
   "source": [
    "### Data Train"
   ]
  },
  {
   "cell_type": "code",
   "execution_count": 8,
   "id": "d8e14783",
   "metadata": {},
   "outputs": [],
   "source": [
    "# data_train_tok \n",
    "data_train['text_tok'] = data_train['clinical_evidence'].apply(pre_process)\n",
    "# 4 hours for execute"
   ]
  },
  {
   "cell_type": "code",
   "execution_count": 9,
   "id": "e0c89cd5",
   "metadata": {},
   "outputs": [],
   "source": [
    "data_train = data_train.drop(columns=['clinical_evidence'])\n",
    "data_train = data_train.reindex(columns = ['gene', 'variation', 'text_tok', 'class'])"
   ]
  },
  {
   "cell_type": "code",
   "execution_count": null,
   "id": "bd5b2cce",
   "metadata": {},
   "outputs": [],
   "source": [
    "data_train.head(3)"
   ]
  },
  {
   "cell_type": "code",
   "execution_count": null,
   "id": "102b8a4f",
   "metadata": {},
   "outputs": [],
   "source": [
    "# Save\n",
    "joblib.dump(data_train, \"data_files/data_train_tok.pkl\")"
   ]
  },
  {
   "cell_type": "markdown",
   "id": "32d38fbe",
   "metadata": {},
   "source": [
    "##### Load data for train lemmatized"
   ]
  },
  {
   "cell_type": "markdown",
   "id": "9584b8ac",
   "metadata": {},
   "source": [
    "###### Libraries"
   ]
  },
  {
   "cell_type": "code",
   "execution_count": 1,
   "id": "e5dd94c9",
   "metadata": {},
   "outputs": [
    {
     "name": "stderr",
     "output_type": "stream",
     "text": [
      "2024-10-02 08:44:49.360632: I external/local_xla/xla/tsl/cuda/cudart_stub.cc:32] Could not find cuda drivers on your machine, GPU will not be used.\n",
      "2024-10-02 08:44:49.896709: I external/local_xla/xla/tsl/cuda/cudart_stub.cc:32] Could not find cuda drivers on your machine, GPU will not be used.\n",
      "2024-10-02 08:44:50.126007: E external/local_xla/xla/stream_executor/cuda/cuda_fft.cc:485] Unable to register cuFFT factory: Attempting to register factory for plugin cuFFT when one has already been registered\n",
      "2024-10-02 08:44:50.517064: E external/local_xla/xla/stream_executor/cuda/cuda_dnn.cc:8454] Unable to register cuDNN factory: Attempting to register factory for plugin cuDNN when one has already been registered\n",
      "2024-10-02 08:44:50.601223: E external/local_xla/xla/stream_executor/cuda/cuda_blas.cc:1452] Unable to register cuBLAS factory: Attempting to register factory for plugin cuBLAS when one has already been registered\n",
      "2024-10-02 08:44:57.276832: W tensorflow/compiler/tf2tensorrt/utils/py_utils.cc:38] TF-TRT Warning: Could not find TensorRT\n"
     ]
    }
   ],
   "source": [
    "import numpy as np\n",
    "import pandas as pd\n",
    "import joblib\n",
    "import warnings\n",
    "\n",
    "import os\n",
    "os.environ[\"KERAS_BACKEND\"] = \"tensorflow\"\n",
    "\n",
    "from keras.models import Sequential\n",
    "from keras.layers import Dense, LSTM, Embedding, TextVectorization, CategoryEncoding\n",
    "from keras.preprocessing.sequence import pad_sequences\n",
    "from sklearn.model_selection import train_test_split\n",
    "from sklearn.preprocessing import LabelEncoder\n",
    "\n",
    "# Config notebook\n",
    "warnings.filterwarnings('ignore')\n",
    "pd.set_option('display.max.colwidth', 200)\n"
   ]
  },
  {
   "cell_type": "code",
   "execution_count": 2,
   "id": "fe81be52",
   "metadata": {},
   "outputs": [
    {
     "data": {
      "text/plain": [
       "(3316, 4)"
      ]
     },
     "execution_count": 2,
     "metadata": {},
     "output_type": "execute_result"
    }
   ],
   "source": [
    "train_tok = joblib.load(\"data_files/data_train_tok.pkl\")\n",
    "train_tok.shape"
   ]
  },
  {
   "cell_type": "code",
   "execution_count": 3,
   "id": "3c703c69",
   "metadata": {},
   "outputs": [
    {
     "data": {
      "text/html": [
       "<div>\n",
       "<style scoped>\n",
       "    .dataframe tbody tr th:only-of-type {\n",
       "        vertical-align: middle;\n",
       "    }\n",
       "\n",
       "    .dataframe tbody tr th {\n",
       "        vertical-align: top;\n",
       "    }\n",
       "\n",
       "    .dataframe thead th {\n",
       "        text-align: right;\n",
       "    }\n",
       "</style>\n",
       "<table border=\"1\" class=\"dataframe\">\n",
       "  <thead>\n",
       "    <tr style=\"text-align: right;\">\n",
       "      <th></th>\n",
       "      <th>gene</th>\n",
       "      <th>variation</th>\n",
       "      <th>text_tok</th>\n",
       "      <th>class</th>\n",
       "    </tr>\n",
       "  </thead>\n",
       "  <tbody>\n",
       "    <tr>\n",
       "      <th>0</th>\n",
       "      <td>FAM58A</td>\n",
       "      <td>Truncating_Mutations</td>\n",
       "      <td>cyclindependent kinases cdks regulate variety fundamental cellular process cdk10 stand orphan cdks activate cyclin identify kinase activity reveal previous work show cdk10 silencing increase ets2 ...</td>\n",
       "      <td>1</td>\n",
       "    </tr>\n",
       "    <tr>\n",
       "      <th>1</th>\n",
       "      <td>CBL</td>\n",
       "      <td>W802*</td>\n",
       "      <td>abstract background   nonsmall cell lung cancer nsclc heterogeneous group disorder number genetic proteomic alteration ccbl e3 ubiquitin ligase adaptor molecule important normal homeostasis cancer...</td>\n",
       "      <td>2</td>\n",
       "    </tr>\n",
       "    <tr>\n",
       "      <th>2</th>\n",
       "      <td>CBL</td>\n",
       "      <td>Q249E</td>\n",
       "      <td>abstract background   nonsmall cell lung cancer nsclc heterogeneous group disorder number genetic proteomic alteration ccbl e3 ubiquitin ligase adaptor molecule important normal homeostasis cancer...</td>\n",
       "      <td>2</td>\n",
       "    </tr>\n",
       "  </tbody>\n",
       "</table>\n",
       "</div>"
      ],
      "text/plain": [
       "     gene             variation  \\\n",
       "0  FAM58A  Truncating_Mutations   \n",
       "1     CBL                 W802*   \n",
       "2     CBL                 Q249E   \n",
       "\n",
       "                                                                                                                                                                                                  text_tok  \\\n",
       "0  cyclindependent kinases cdks regulate variety fundamental cellular process cdk10 stand orphan cdks activate cyclin identify kinase activity reveal previous work show cdk10 silencing increase ets2 ...   \n",
       "1  abstract background   nonsmall cell lung cancer nsclc heterogeneous group disorder number genetic proteomic alteration ccbl e3 ubiquitin ligase adaptor molecule important normal homeostasis cancer...   \n",
       "2  abstract background   nonsmall cell lung cancer nsclc heterogeneous group disorder number genetic proteomic alteration ccbl e3 ubiquitin ligase adaptor molecule important normal homeostasis cancer...   \n",
       "\n",
       "   class  \n",
       "0      1  \n",
       "1      2  \n",
       "2      2  "
      ]
     },
     "execution_count": 3,
     "metadata": {},
     "output_type": "execute_result"
    }
   ],
   "source": [
    "\n",
    "train_tok.head(3)"
   ]
  },
  {
   "cell_type": "code",
   "execution_count": 4,
   "id": "166c3175",
   "metadata": {},
   "outputs": [],
   "source": [
    "vocab = joblib.load(\"data_files/vocab.pkl\")"
   ]
  },
  {
   "cell_type": "code",
   "execution_count": 8,
   "id": "6c5a4de8",
   "metadata": {},
   "outputs": [],
   "source": [
    "# One-Hot Encode class label\n",
    "one = CategoryEncoding(\n",
    "          num_tokens=len(train_tok[\"class\"].unique()), output_mode=\"one_hot\")\n",
    "label = one((train_tok['class'] - 1).values)"
   ]
  },
  {
   "cell_type": "code",
   "execution_count": 18,
   "id": "bc17ee29",
   "metadata": {},
   "outputs": [
    {
     "data": {
      "text/plain": [
       "<tf.Tensor: shape=(3316, 9), dtype=float32, numpy=\n",
       "array([[1., 0., 0., ..., 0., 0., 0.],\n",
       "       [0., 1., 0., ..., 0., 0., 0.],\n",
       "       [0., 1., 0., ..., 0., 0., 0.],\n",
       "       ...,\n",
       "       [1., 0., 0., ..., 0., 0., 0.],\n",
       "       [0., 0., 0., ..., 0., 0., 0.],\n",
       "       [0., 0., 0., ..., 0., 0., 0.]], dtype=float32)>"
      ]
     },
     "execution_count": 18,
     "metadata": {},
     "output_type": "execute_result"
    }
   ],
   "source": [
    "label"
   ]
  },
  {
   "cell_type": "code",
   "execution_count": 19,
   "id": "145a6a4b",
   "metadata": {},
   "outputs": [],
   "source": [
    "max_tokens=len(vocab)\n",
    "max_len = 32  # Sequence length to pad the outputs to.\n",
    "\n",
    "vectorize_layer = keras.layers.TextVectorization(\n",
    "    max_tokens=max_tokens,\n",
    "    output_mode='int',\n",
    "    output_sequence_length=max_len,\n",
    "    vocabulary=vocab)"
   ]
  },
  {
   "cell_type": "code",
   "execution_count": 4,
   "id": "8866dcc6",
   "metadata": {},
   "outputs": [],
   "source": [
    "class_weights = {i: 1.0 / np.sum(train_tok['class'] == i) for i in np.unique(train_tok['class'])}"
   ]
  },
  {
   "cell_type": "markdown",
   "id": "9b8e6c6b",
   "metadata": {},
   "source": [
    "### Data Predict"
   ]
  },
  {
   "cell_type": "code",
   "execution_count": 3,
   "id": "d8ed3421",
   "metadata": {},
   "outputs": [],
   "source": [
    "# Load\n",
    "data_predict = pd.read_parquet('./data_files/data_for_predict.parquet')"
   ]
  },
  {
   "cell_type": "code",
   "execution_count": null,
   "id": "c688c901",
   "metadata": {},
   "outputs": [],
   "source": [
    "data_predict.head(3)"
   ]
  },
  {
   "cell_type": "code",
   "execution_count": 5,
   "id": "181a81a8",
   "metadata": {},
   "outputs": [],
   "source": [
    "data_predict['text_tok'] = data_predict['clinical_evidence'].apply(pre_process)\n",
    "# 5:40 hours for execute"
   ]
  },
  {
   "cell_type": "code",
   "execution_count": 6,
   "id": "c2ee68df",
   "metadata": {},
   "outputs": [],
   "source": [
    "data_predict = data_predict.drop(columns=['clinical_evidence'])"
   ]
  },
  {
   "cell_type": "code",
   "execution_count": null,
   "id": "743638b5",
   "metadata": {},
   "outputs": [],
   "source": [
    "data_predict.head()"
   ]
  },
  {
   "cell_type": "markdown",
   "id": "e6f83af8",
   "metadata": {},
   "source": [
    "##### Load data for predict lemmatized"
   ]
  },
  {
   "cell_type": "code",
   "execution_count": null,
   "id": "897a0b5e",
   "metadata": {},
   "outputs": [],
   "source": [
    "# Save\n",
    "joblib.dump(data_predict, \"data_files/data_predict_tok.pkl\")"
   ]
  },
  {
   "cell_type": "code",
   "execution_count": null,
   "id": "0bca0c70",
   "metadata": {},
   "outputs": [],
   "source": [
    "predict_tok = joblib.load(\"data_files/data_predict_tok.pkl\")\n",
    "predict_tok.shape"
   ]
  },
  {
   "cell_type": "code",
   "execution_count": null,
   "id": "b540e741",
   "metadata": {},
   "outputs": [],
   "source": [
    "predict_tok"
   ]
  }
 ],
 "metadata": {
  "kernelspec": {
   "display_name": "Python 3 (ipykernel)",
   "language": "python",
   "name": "python3"
  },
  "language_info": {
   "codemirror_mode": {
    "name": "ipython",
    "version": 3
   },
   "file_extension": ".py",
   "mimetype": "text/x-python",
   "name": "python",
   "nbconvert_exporter": "python",
   "pygments_lexer": "ipython3",
   "version": "3.11.9"
  }
 },
 "nbformat": 4,
 "nbformat_minor": 5
}
